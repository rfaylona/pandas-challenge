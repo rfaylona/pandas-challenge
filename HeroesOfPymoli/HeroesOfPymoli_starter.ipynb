{
 "cells": [
  {
   "cell_type": "markdown",
   "metadata": {},
   "source": [
    "### Note\n",
    "* Instructions have been included for each segment. You do not have to follow them exactly, but they are included to help you think through the steps."
   ]
  },
  {
   "cell_type": "code",
   "execution_count": 1,
   "metadata": {},
   "outputs": [
    {
     "data": {
      "text/plain": [
       "Purchase ID    780\n",
       "SN             780\n",
       "Age            780\n",
       "Gender         780\n",
       "Item ID        780\n",
       "Item Name      780\n",
       "Price          780\n",
       "dtype: int64"
      ]
     },
     "execution_count": 1,
     "metadata": {},
     "output_type": "execute_result"
    }
   ],
   "source": [
    "# Dependencies and Setup\n",
    "import pandas as pd\n",
    "\n",
    "# File to Load (Remember to Change These)\n",
    "file_to_load = \"Resources/purchase_data.csv\"\n",
    "\n",
    "# Read Purchasing File and store into Pandas data frame\n",
    "purchase_data = pd.read_csv(file_to_load)\n",
    "\n",
    "# check data for discrepancies\n",
    "purchase_data.count()"
   ]
  },
  {
   "cell_type": "code",
   "execution_count": 2,
   "metadata": {},
   "outputs": [
    {
     "data": {
      "text/html": [
       "<div>\n",
       "<style scoped>\n",
       "    .dataframe tbody tr th:only-of-type {\n",
       "        vertical-align: middle;\n",
       "    }\n",
       "\n",
       "    .dataframe tbody tr th {\n",
       "        vertical-align: top;\n",
       "    }\n",
       "\n",
       "    .dataframe thead th {\n",
       "        text-align: right;\n",
       "    }\n",
       "</style>\n",
       "<table border=\"1\" class=\"dataframe\">\n",
       "  <thead>\n",
       "    <tr style=\"text-align: right;\">\n",
       "      <th></th>\n",
       "      <th>Purchase ID</th>\n",
       "      <th>SN</th>\n",
       "      <th>Age</th>\n",
       "      <th>Gender</th>\n",
       "      <th>Item ID</th>\n",
       "      <th>Item Name</th>\n",
       "      <th>Price</th>\n",
       "    </tr>\n",
       "  </thead>\n",
       "  <tbody>\n",
       "    <tr>\n",
       "      <th>0</th>\n",
       "      <td>0</td>\n",
       "      <td>Lisim78</td>\n",
       "      <td>20</td>\n",
       "      <td>Male</td>\n",
       "      <td>108</td>\n",
       "      <td>Extraction, Quickblade Of Trembling Hands</td>\n",
       "      <td>3.53</td>\n",
       "    </tr>\n",
       "    <tr>\n",
       "      <th>1</th>\n",
       "      <td>1</td>\n",
       "      <td>Lisovynya38</td>\n",
       "      <td>40</td>\n",
       "      <td>Male</td>\n",
       "      <td>143</td>\n",
       "      <td>Frenzied Scimitar</td>\n",
       "      <td>1.56</td>\n",
       "    </tr>\n",
       "    <tr>\n",
       "      <th>2</th>\n",
       "      <td>2</td>\n",
       "      <td>Ithergue48</td>\n",
       "      <td>24</td>\n",
       "      <td>Male</td>\n",
       "      <td>92</td>\n",
       "      <td>Final Critic</td>\n",
       "      <td>4.88</td>\n",
       "    </tr>\n",
       "    <tr>\n",
       "      <th>3</th>\n",
       "      <td>3</td>\n",
       "      <td>Chamassasya86</td>\n",
       "      <td>24</td>\n",
       "      <td>Male</td>\n",
       "      <td>100</td>\n",
       "      <td>Blindscythe</td>\n",
       "      <td>3.27</td>\n",
       "    </tr>\n",
       "    <tr>\n",
       "      <th>4</th>\n",
       "      <td>4</td>\n",
       "      <td>Iskosia90</td>\n",
       "      <td>23</td>\n",
       "      <td>Male</td>\n",
       "      <td>131</td>\n",
       "      <td>Fury</td>\n",
       "      <td>1.44</td>\n",
       "    </tr>\n",
       "  </tbody>\n",
       "</table>\n",
       "</div>"
      ],
      "text/plain": [
       "   Purchase ID             SN  Age Gender  Item ID  \\\n",
       "0            0        Lisim78   20   Male      108   \n",
       "1            1    Lisovynya38   40   Male      143   \n",
       "2            2     Ithergue48   24   Male       92   \n",
       "3            3  Chamassasya86   24   Male      100   \n",
       "4            4      Iskosia90   23   Male      131   \n",
       "\n",
       "                                   Item Name  Price  \n",
       "0  Extraction, Quickblade Of Trembling Hands   3.53  \n",
       "1                          Frenzied Scimitar   1.56  \n",
       "2                               Final Critic   4.88  \n",
       "3                                Blindscythe   3.27  \n",
       "4                                       Fury   1.44  "
      ]
     },
     "execution_count": 2,
     "metadata": {},
     "output_type": "execute_result"
    }
   ],
   "source": [
    "# check table headers\n",
    "purchase_data.head()"
   ]
  },
  {
   "cell_type": "markdown",
   "metadata": {},
   "source": [
    "## Player Count"
   ]
  },
  {
   "cell_type": "markdown",
   "metadata": {},
   "source": [
    "* Display the total number of players\n"
   ]
  },
  {
   "cell_type": "code",
   "execution_count": 3,
   "metadata": {},
   "outputs": [
    {
     "data": {
      "text/html": [
       "<div>\n",
       "<style scoped>\n",
       "    .dataframe tbody tr th:only-of-type {\n",
       "        vertical-align: middle;\n",
       "    }\n",
       "\n",
       "    .dataframe tbody tr th {\n",
       "        vertical-align: top;\n",
       "    }\n",
       "\n",
       "    .dataframe thead th {\n",
       "        text-align: right;\n",
       "    }\n",
       "</style>\n",
       "<table border=\"1\" class=\"dataframe\">\n",
       "  <thead>\n",
       "    <tr style=\"text-align: right;\">\n",
       "      <th></th>\n",
       "      <th>Total Players</th>\n",
       "    </tr>\n",
       "  </thead>\n",
       "  <tbody>\n",
       "    <tr>\n",
       "      <th>0</th>\n",
       "      <td>576</td>\n",
       "    </tr>\n",
       "  </tbody>\n",
       "</table>\n",
       "</div>"
      ],
      "text/plain": [
       "   Total Players\n",
       "0            576"
      ]
     },
     "execution_count": 3,
     "metadata": {},
     "output_type": "execute_result"
    }
   ],
   "source": [
    "# count using SN header for total players\n",
    "total_players = len(purchase_data[\"SN\"].value_counts())\n",
    "\n",
    "sum_of_players = pd.DataFrame({\"Total Players\": [total_players]})\n",
    "sum_of_players"
   ]
  },
  {
   "cell_type": "markdown",
   "metadata": {},
   "source": [
    "## Purchasing Analysis (Total)"
   ]
  },
  {
   "cell_type": "markdown",
   "metadata": {},
   "source": [
    "* Run basic calculations to obtain number of unique items, average price, etc.\n",
    "\n",
    "\n",
    "* Create a summary data frame to hold the results\n",
    "\n",
    "\n",
    "* Optional: give the displayed data cleaner formatting\n",
    "\n",
    "\n",
    "* Display the summary data frame\n"
   ]
  },
  {
   "cell_type": "code",
   "execution_count": 4,
   "metadata": {
    "scrolled": true
   },
   "outputs": [
    {
     "data": {
      "text/html": [
       "<div>\n",
       "<style scoped>\n",
       "    .dataframe tbody tr th:only-of-type {\n",
       "        vertical-align: middle;\n",
       "    }\n",
       "\n",
       "    .dataframe tbody tr th {\n",
       "        vertical-align: top;\n",
       "    }\n",
       "\n",
       "    .dataframe thead th {\n",
       "        text-align: right;\n",
       "    }\n",
       "</style>\n",
       "<table border=\"1\" class=\"dataframe\">\n",
       "  <thead>\n",
       "    <tr style=\"text-align: right;\">\n",
       "      <th></th>\n",
       "      <th>Number of Unique Items</th>\n",
       "      <th>Average Purchase Price</th>\n",
       "      <th>Total Number of Purchases</th>\n",
       "      <th>Total Revenue</th>\n",
       "    </tr>\n",
       "  </thead>\n",
       "  <tbody>\n",
       "    <tr>\n",
       "      <th>0</th>\n",
       "      <td>179</td>\n",
       "      <td>$3.05</td>\n",
       "      <td>780</td>\n",
       "      <td>$2,379.77</td>\n",
       "    </tr>\n",
       "  </tbody>\n",
       "</table>\n",
       "</div>"
      ],
      "text/plain": [
       "   Number of Unique Items Average Purchase Price  Total Number of Purchases  \\\n",
       "0                     179                  $3.05                        780   \n",
       "\n",
       "  Total Revenue  \n",
       "0     $2,379.77  "
      ]
     },
     "execution_count": 4,
     "metadata": {},
     "output_type": "execute_result"
    }
   ],
   "source": [
    "# find unique items, avg price, total number of purchases and total rev\n",
    "unique_items = len(purchase_data[\"Item ID\"].unique())\n",
    "avg_price = purchase_data[\"Price\"].mean()\n",
    "num_purchase = purchase_data[\"Purchase ID\"].count()\n",
    "revenue = purchase_data [\"Price\"].sum()\n",
    "\n",
    "#create summary table\n",
    "summary = pd.DataFrame({\"Number of Unique Items\": [unique_items], \"Average Purchase Price\": [\"${:,.2f}\".format(avg_price)], \n",
    "                        \"Total Number of Purchases\": [num_purchase], \"Total Revenue\": [\"${:,.2f}\".format(revenue)]})\n",
    "\n",
    "summary"
   ]
  },
  {
   "cell_type": "markdown",
   "metadata": {},
   "source": [
    "## Gender Demographics"
   ]
  },
  {
   "cell_type": "markdown",
   "metadata": {},
   "source": [
    "* Percentage and Count of Male Players\n",
    "\n",
    "\n",
    "* Percentage and Count of Female Players\n",
    "\n",
    "\n",
    "* Percentage and Count of Other / Non-Disclosed\n",
    "\n",
    "\n"
   ]
  },
  {
   "cell_type": "code",
   "execution_count": 5,
   "metadata": {},
   "outputs": [
    {
     "data": {
      "text/plain": [
       "array(['Male', 'Other / Non-Disclosed', 'Female'], dtype=object)"
      ]
     },
     "execution_count": 5,
     "metadata": {},
     "output_type": "execute_result"
    }
   ],
   "source": [
    "# checking values in Gender column\n",
    "purchase_data.Gender.unique()"
   ]
  },
  {
   "cell_type": "code",
   "execution_count": 6,
   "metadata": {},
   "outputs": [
    {
     "data": {
      "text/html": [
       "<div>\n",
       "<style scoped>\n",
       "    .dataframe tbody tr th:only-of-type {\n",
       "        vertical-align: middle;\n",
       "    }\n",
       "\n",
       "    .dataframe tbody tr th {\n",
       "        vertical-align: top;\n",
       "    }\n",
       "\n",
       "    .dataframe thead th {\n",
       "        text-align: right;\n",
       "    }\n",
       "</style>\n",
       "<table border=\"1\" class=\"dataframe\">\n",
       "  <thead>\n",
       "    <tr style=\"text-align: right;\">\n",
       "      <th></th>\n",
       "      <th>Total Count</th>\n",
       "      <th>Percentage of Players</th>\n",
       "    </tr>\n",
       "    <tr>\n",
       "      <th></th>\n",
       "      <th></th>\n",
       "      <th></th>\n",
       "    </tr>\n",
       "  </thead>\n",
       "  <tbody>\n",
       "    <tr>\n",
       "      <th>Male</th>\n",
       "      <td>484</td>\n",
       "      <td>84.03%</td>\n",
       "    </tr>\n",
       "    <tr>\n",
       "      <th>Female</th>\n",
       "      <td>81</td>\n",
       "      <td>14.06%</td>\n",
       "    </tr>\n",
       "    <tr>\n",
       "      <th>Other/Non-Disclose</th>\n",
       "      <td>11</td>\n",
       "      <td>1.91%</td>\n",
       "    </tr>\n",
       "  </tbody>\n",
       "</table>\n",
       "</div>"
      ],
      "text/plain": [
       "                    Total Count Percentage of Players\n",
       "                                                     \n",
       "Male                        484                84.03%\n",
       "Female                       81                14.06%\n",
       "Other/Non-Disclose           11                 1.91%"
      ]
     },
     "execution_count": 6,
     "metadata": {},
     "output_type": "execute_result"
    }
   ],
   "source": [
    "# find the number of male, female and other players\n",
    "male = purchase_data.loc[purchase_data[\"Gender\"]== \"Male\", \"SN\"].nunique()\n",
    "female = purchase_data.loc[purchase_data[\"Gender\"]== \"Female\", \"SN\"].nunique()\n",
    "other = purchase_data.loc[purchase_data[\"Gender\"]== \"Other / Non-Disclosed\", \"SN\"].nunique()\n",
    "\n",
    "# find percentage and format\n",
    "male_pct = \"{:.2%}\".format(male/purchase_data[\"SN\"].nunique())\n",
    "female_pct = \"{:.2%}\".format(female/purchase_data[\"SN\"].nunique())\n",
    "other_pct = \"{:.2%}\".format(other/purchase_data[\"SN\"].nunique())\n",
    "\n",
    "# create sumamry table\n",
    "gender_summary = pd.DataFrame({\"\":[\"Male\", \"Female\", \"Other/Non-Disclose\"], \"Total Count\": [male, female, other],\n",
    "                              \"Percentage of Players\": [male_pct, female_pct, other_pct]})\n",
    "gender_summary = gender_summary.set_index(\"\")\n",
    "gender_summary"
   ]
  },
  {
   "cell_type": "markdown",
   "metadata": {},
   "source": [
    "\n",
    "## Purchasing Analysis (Gender)"
   ]
  },
  {
   "cell_type": "markdown",
   "metadata": {},
   "source": [
    "* Run basic calculations to obtain purchase count, avg. purchase price, avg. purchase total per person etc. by gender\n",
    "\n",
    "\n",
    "\n",
    "\n",
    "* Create a summary data frame to hold the results\n",
    "\n",
    "\n",
    "* Optional: give the displayed data cleaner formatting\n",
    "\n",
    "\n",
    "* Display the summary data frame"
   ]
  },
  {
   "cell_type": "code",
   "execution_count": 7,
   "metadata": {},
   "outputs": [
    {
     "data": {
      "text/html": [
       "<div>\n",
       "<style scoped>\n",
       "    .dataframe tbody tr th:only-of-type {\n",
       "        vertical-align: middle;\n",
       "    }\n",
       "\n",
       "    .dataframe tbody tr th {\n",
       "        vertical-align: top;\n",
       "    }\n",
       "\n",
       "    .dataframe thead th {\n",
       "        text-align: right;\n",
       "    }\n",
       "</style>\n",
       "<table border=\"1\" class=\"dataframe\">\n",
       "  <thead>\n",
       "    <tr style=\"text-align: right;\">\n",
       "      <th></th>\n",
       "      <th>Purchase Count</th>\n",
       "      <th>Average Purchase Price</th>\n",
       "      <th>Total Purchase Value</th>\n",
       "      <th>Average Total Per Person</th>\n",
       "    </tr>\n",
       "    <tr>\n",
       "      <th>Gender</th>\n",
       "      <th></th>\n",
       "      <th></th>\n",
       "      <th></th>\n",
       "      <th></th>\n",
       "    </tr>\n",
       "  </thead>\n",
       "  <tbody>\n",
       "    <tr>\n",
       "      <th>Female</th>\n",
       "      <td>113</td>\n",
       "      <td>$3.20</td>\n",
       "      <td>$361.94</td>\n",
       "      <td>$4.47</td>\n",
       "    </tr>\n",
       "    <tr>\n",
       "      <th>Male</th>\n",
       "      <td>652</td>\n",
       "      <td>$3.02</td>\n",
       "      <td>$1967.64</td>\n",
       "      <td>$4.07</td>\n",
       "    </tr>\n",
       "    <tr>\n",
       "      <th>Other / Non-Disclosed</th>\n",
       "      <td>15</td>\n",
       "      <td>$3.35</td>\n",
       "      <td>$50.19</td>\n",
       "      <td>$4.56</td>\n",
       "    </tr>\n",
       "  </tbody>\n",
       "</table>\n",
       "</div>"
      ],
      "text/plain": [
       "                       Purchase Count Average Purchase Price  \\\n",
       "Gender                                                         \n",
       "Female                            113                  $3.20   \n",
       "Male                              652                  $3.02   \n",
       "Other / Non-Disclosed              15                  $3.35   \n",
       "\n",
       "                      Total Purchase Value Average Total Per Person  \n",
       "Gender                                                               \n",
       "Female                             $361.94                    $4.47  \n",
       "Male                              $1967.64                    $4.07  \n",
       "Other / Non-Disclosed               $50.19                    $4.56  "
      ]
     },
     "execution_count": 7,
     "metadata": {},
     "output_type": "execute_result"
    }
   ],
   "source": [
    "# create calculations for purchase count, avg purchase price, total purchase value and avg purchase total by gender\n",
    "purchase_count = purchase_data.groupby([\"Gender\"]).count()[\"Price\"]\n",
    "avg_purchase_total = purchase_data.groupby([\"Gender\"]).mean()[\"Price\"]\n",
    "purchase_total = purchase_data.groupby([\"Gender\"]).sum()[\"Price\"]\n",
    "\n",
    "avg_purchase_ppax = purchase_total/purchase_data.groupby([\"Gender\"]).nunique()[\"SN\"]\n",
    "\n",
    "# create summary table\n",
    "gen_analysis = pd.DataFrame({\"Purchase Count\": purchase_count, \"Average Purchase Price\": avg_purchase_total.map(\"${:.2f}\".format),\n",
    "                            \"Total Purchase Value\": purchase_total.map(\"${:.2f}\".format),\n",
    "                            \"Average Total Per Person\": avg_purchase_ppax.map(\"${:.2f}\".format)})\n",
    "\n",
    "gen_analysis"
   ]
  },
  {
   "cell_type": "markdown",
   "metadata": {},
   "source": [
    "## Age Demographics"
   ]
  },
  {
   "cell_type": "markdown",
   "metadata": {},
   "source": [
    "* Establish bins for ages\n",
    "\n",
    "\n",
    "* Categorize the existing players using the age bins. Hint: use pd.cut()\n",
    "\n",
    "\n",
    "* Calculate the numbers and percentages by age group\n",
    "\n",
    "\n",
    "* Create a summary data frame to hold the results\n",
    "\n",
    "\n",
    "* Optional: round the percentage column to two decimal points\n",
    "\n",
    "\n",
    "* Display Age Demographics Table\n"
   ]
  },
  {
   "cell_type": "code",
   "execution_count": 8,
   "metadata": {},
   "outputs": [
    {
     "data": {
      "text/html": [
       "<style  type=\"text/css\" >\n",
       "</style><table id=\"T_26c28a58_3a25_11ec_98b5_d8cb8ac3230d\" ><thead>    <tr>        <th class=\"blank level0\" ></th>        <th class=\"col_heading level0 col0\" >Total Count</th>        <th class=\"col_heading level0 col1\" >Percentage of Players</th>    </tr></thead><tbody>\n",
       "                <tr>\n",
       "                        <th id=\"T_26c28a58_3a25_11ec_98b5_d8cb8ac3230dlevel0_row0\" class=\"row_heading level0 row0\" ><10</th>\n",
       "                        <td id=\"T_26c28a58_3a25_11ec_98b5_d8cb8ac3230drow0_col0\" class=\"data row0 col0\" >17</td>\n",
       "                        <td id=\"T_26c28a58_3a25_11ec_98b5_d8cb8ac3230drow0_col1\" class=\"data row0 col1\" >2.95%</td>\n",
       "            </tr>\n",
       "            <tr>\n",
       "                        <th id=\"T_26c28a58_3a25_11ec_98b5_d8cb8ac3230dlevel0_row1\" class=\"row_heading level0 row1\" >10-14</th>\n",
       "                        <td id=\"T_26c28a58_3a25_11ec_98b5_d8cb8ac3230drow1_col0\" class=\"data row1 col0\" >22</td>\n",
       "                        <td id=\"T_26c28a58_3a25_11ec_98b5_d8cb8ac3230drow1_col1\" class=\"data row1 col1\" >3.82%</td>\n",
       "            </tr>\n",
       "            <tr>\n",
       "                        <th id=\"T_26c28a58_3a25_11ec_98b5_d8cb8ac3230dlevel0_row2\" class=\"row_heading level0 row2\" >15-19</th>\n",
       "                        <td id=\"T_26c28a58_3a25_11ec_98b5_d8cb8ac3230drow2_col0\" class=\"data row2 col0\" >107</td>\n",
       "                        <td id=\"T_26c28a58_3a25_11ec_98b5_d8cb8ac3230drow2_col1\" class=\"data row2 col1\" >18.58%</td>\n",
       "            </tr>\n",
       "            <tr>\n",
       "                        <th id=\"T_26c28a58_3a25_11ec_98b5_d8cb8ac3230dlevel0_row3\" class=\"row_heading level0 row3\" >20-24</th>\n",
       "                        <td id=\"T_26c28a58_3a25_11ec_98b5_d8cb8ac3230drow3_col0\" class=\"data row3 col0\" >258</td>\n",
       "                        <td id=\"T_26c28a58_3a25_11ec_98b5_d8cb8ac3230drow3_col1\" class=\"data row3 col1\" >44.79%</td>\n",
       "            </tr>\n",
       "            <tr>\n",
       "                        <th id=\"T_26c28a58_3a25_11ec_98b5_d8cb8ac3230dlevel0_row4\" class=\"row_heading level0 row4\" >25-29</th>\n",
       "                        <td id=\"T_26c28a58_3a25_11ec_98b5_d8cb8ac3230drow4_col0\" class=\"data row4 col0\" >77</td>\n",
       "                        <td id=\"T_26c28a58_3a25_11ec_98b5_d8cb8ac3230drow4_col1\" class=\"data row4 col1\" >13.37%</td>\n",
       "            </tr>\n",
       "            <tr>\n",
       "                        <th id=\"T_26c28a58_3a25_11ec_98b5_d8cb8ac3230dlevel0_row5\" class=\"row_heading level0 row5\" >30-4</th>\n",
       "                        <td id=\"T_26c28a58_3a25_11ec_98b5_d8cb8ac3230drow5_col0\" class=\"data row5 col0\" >52</td>\n",
       "                        <td id=\"T_26c28a58_3a25_11ec_98b5_d8cb8ac3230drow5_col1\" class=\"data row5 col1\" >9.03%</td>\n",
       "            </tr>\n",
       "            <tr>\n",
       "                        <th id=\"T_26c28a58_3a25_11ec_98b5_d8cb8ac3230dlevel0_row6\" class=\"row_heading level0 row6\" >35-39</th>\n",
       "                        <td id=\"T_26c28a58_3a25_11ec_98b5_d8cb8ac3230drow6_col0\" class=\"data row6 col0\" >31</td>\n",
       "                        <td id=\"T_26c28a58_3a25_11ec_98b5_d8cb8ac3230drow6_col1\" class=\"data row6 col1\" >5.38%</td>\n",
       "            </tr>\n",
       "            <tr>\n",
       "                        <th id=\"T_26c28a58_3a25_11ec_98b5_d8cb8ac3230dlevel0_row7\" class=\"row_heading level0 row7\" >40+</th>\n",
       "                        <td id=\"T_26c28a58_3a25_11ec_98b5_d8cb8ac3230drow7_col0\" class=\"data row7 col0\" >12</td>\n",
       "                        <td id=\"T_26c28a58_3a25_11ec_98b5_d8cb8ac3230drow7_col1\" class=\"data row7 col1\" >2.08%</td>\n",
       "            </tr>\n",
       "    </tbody></table>"
      ],
      "text/plain": [
       "<pandas.io.formats.style.Styler at 0x1246cb78400>"
      ]
     },
     "execution_count": 8,
     "metadata": {},
     "output_type": "execute_result"
    }
   ],
   "source": [
    "# create age bins \n",
    "age_bins = [0, 9, 14, 19, 24, 29, 34, 39, 100]\n",
    "# create age category\n",
    "age_ranges = [\"<10\", \"10-14\", \"15-19\", \"20-24\", \"25-29\", \"30-4\", \"35-39\", \"40+\"]\n",
    "\n",
    "purchase_data[\"Age Ranges\"] = pd.cut(purchase_data[\"Age\"], age_bins, labels=age_ranges)\n",
    "\n",
    "new_age_bin = purchase_data.groupby(\"Age Ranges\")\n",
    "\n",
    "# calculate count and percentages of players by age\n",
    "ages_count = new_age_bin[\"SN\"].nunique()\n",
    "age_pct = ages_count/total_players * 100\n",
    "\n",
    "#create summary table and display as percentage\n",
    "age_demo = pd.DataFrame({\"Total Count\": ages_count, \"Percentage of Players\": age_pct})\n",
    "age_demo.index.name = None\n",
    "age_demo.style.format({'Percentage of Players': \"{:,.2f}%\"})"
   ]
  },
  {
   "cell_type": "markdown",
   "metadata": {},
   "source": [
    "## Purchasing Analysis (Age)"
   ]
  },
  {
   "cell_type": "markdown",
   "metadata": {},
   "source": [
    "* Bin the purchase_data data frame by age\n",
    "\n",
    "\n",
    "* Run basic calculations to obtain purchase count, avg. purchase price, avg. purchase total per person etc. in the table below\n",
    "\n",
    "\n",
    "* Create a summary data frame to hold the results\n",
    "\n",
    "\n",
    "* Optional: give the displayed data cleaner formatting\n",
    "\n",
    "\n",
    "* Display the summary data frame"
   ]
  },
  {
   "cell_type": "code",
   "execution_count": 9,
   "metadata": {},
   "outputs": [
    {
     "data": {
      "text/html": [
       "<div>\n",
       "<style scoped>\n",
       "    .dataframe tbody tr th:only-of-type {\n",
       "        vertical-align: middle;\n",
       "    }\n",
       "\n",
       "    .dataframe tbody tr th {\n",
       "        vertical-align: top;\n",
       "    }\n",
       "\n",
       "    .dataframe thead th {\n",
       "        text-align: right;\n",
       "    }\n",
       "</style>\n",
       "<table border=\"1\" class=\"dataframe\">\n",
       "  <thead>\n",
       "    <tr style=\"text-align: right;\">\n",
       "      <th></th>\n",
       "      <th>Purchase Count</th>\n",
       "      <th>Average Purchase Price</th>\n",
       "      <th>Total Purchase Price</th>\n",
       "      <th>Average Total Purchase Per Person</th>\n",
       "    </tr>\n",
       "  </thead>\n",
       "  <tbody>\n",
       "    <tr>\n",
       "      <th>&lt;10</th>\n",
       "      <td>23</td>\n",
       "      <td>$3.35</td>\n",
       "      <td>$77.13</td>\n",
       "      <td>$4.54</td>\n",
       "    </tr>\n",
       "    <tr>\n",
       "      <th>10-14</th>\n",
       "      <td>28</td>\n",
       "      <td>$2.96</td>\n",
       "      <td>$82.78</td>\n",
       "      <td>$3.76</td>\n",
       "    </tr>\n",
       "    <tr>\n",
       "      <th>15-19</th>\n",
       "      <td>136</td>\n",
       "      <td>$3.04</td>\n",
       "      <td>$412.89</td>\n",
       "      <td>$3.86</td>\n",
       "    </tr>\n",
       "    <tr>\n",
       "      <th>20-24</th>\n",
       "      <td>365</td>\n",
       "      <td>$3.05</td>\n",
       "      <td>$1114.06</td>\n",
       "      <td>$4.32</td>\n",
       "    </tr>\n",
       "    <tr>\n",
       "      <th>25-29</th>\n",
       "      <td>101</td>\n",
       "      <td>$2.90</td>\n",
       "      <td>$293.00</td>\n",
       "      <td>$3.81</td>\n",
       "    </tr>\n",
       "    <tr>\n",
       "      <th>30-4</th>\n",
       "      <td>73</td>\n",
       "      <td>$2.93</td>\n",
       "      <td>$214.00</td>\n",
       "      <td>$4.12</td>\n",
       "    </tr>\n",
       "    <tr>\n",
       "      <th>35-39</th>\n",
       "      <td>41</td>\n",
       "      <td>$3.60</td>\n",
       "      <td>$147.67</td>\n",
       "      <td>$4.76</td>\n",
       "    </tr>\n",
       "    <tr>\n",
       "      <th>40+</th>\n",
       "      <td>13</td>\n",
       "      <td>$2.94</td>\n",
       "      <td>$38.24</td>\n",
       "      <td>$3.19</td>\n",
       "    </tr>\n",
       "  </tbody>\n",
       "</table>\n",
       "</div>"
      ],
      "text/plain": [
       "       Purchase Count Average Purchase Price Total Purchase Price  \\\n",
       "<10                23                  $3.35               $77.13   \n",
       "10-14              28                  $2.96               $82.78   \n",
       "15-19             136                  $3.04              $412.89   \n",
       "20-24             365                  $3.05             $1114.06   \n",
       "25-29             101                  $2.90              $293.00   \n",
       "30-4               73                  $2.93              $214.00   \n",
       "35-39              41                  $3.60              $147.67   \n",
       "40+                13                  $2.94               $38.24   \n",
       "\n",
       "      Average Total Purchase Per Person  \n",
       "<10                               $4.54  \n",
       "10-14                             $3.76  \n",
       "15-19                             $3.86  \n",
       "20-24                             $4.32  \n",
       "25-29                             $3.81  \n",
       "30-4                              $4.12  \n",
       "35-39                             $4.76  \n",
       "40+                               $3.19  "
      ]
     },
     "execution_count": 9,
     "metadata": {},
     "output_type": "execute_result"
    }
   ],
   "source": [
    "# find purchase count\n",
    "purchase_count= new_age_bin[\"Purchase ID\"].count()\n",
    "# find average purchase price\n",
    "avg_purchase = new_age_bin[\"Price\"].mean()\n",
    "# find total purchase price\n",
    "total_purchase = new_age_bin[\"Price\"].sum()\n",
    "avg_total_pp = total_purchase/ages_count\n",
    "\n",
    "age_spend_analysis = pd.DataFrame({\"Purchase Count\": purchase_count, \n",
    "                                    \"Average Purchase Price\": avg_purchase.map(\"${:.2f}\".format),\n",
    "                                    \"Total Purchase Price\": total_purchase.map(\"${:.2f}\".format),\n",
    "                                    \"Average Total Purchase Per Person\": avg_total_pp.map(\"${:.2f}\".format)})\n",
    "\n",
    "age_spend_analysis.index.name = None\n",
    "age_spend_analysis"
   ]
  },
  {
   "cell_type": "markdown",
   "metadata": {},
   "source": [
    "## Top Spenders"
   ]
  },
  {
   "cell_type": "markdown",
   "metadata": {},
   "source": [
    "* Run basic calculations to obtain the results in the table below\n",
    "\n",
    "\n",
    "* Create a summary data frame to hold the results\n",
    "\n",
    "\n",
    "* Sort the total purchase value column in descending order\n",
    "\n",
    "\n",
    "* Optional: give the displayed data cleaner formatting\n",
    "\n",
    "\n",
    "* Display a preview of the summary data frame\n",
    "\n"
   ]
  },
  {
   "cell_type": "code",
   "execution_count": 10,
   "metadata": {},
   "outputs": [
    {
     "data": {
      "text/html": [
       "<style  type=\"text/css\" >\n",
       "</style><table id=\"T_26cc9b40_3a25_11ec_b49c_d8cb8ac3230d\" ><thead>    <tr>        <th class=\"blank level0\" ></th>        <th class=\"col_heading level0 col0\" >Purchase Count</th>        <th class=\"col_heading level0 col1\" >Average Purchase Price</th>        <th class=\"col_heading level0 col2\" >Total Purchase Price</th>    </tr>    <tr>        <th class=\"index_name level0\" >SN</th>        <th class=\"blank\" ></th>        <th class=\"blank\" ></th>        <th class=\"blank\" ></th>    </tr></thead><tbody>\n",
       "                <tr>\n",
       "                        <th id=\"T_26cc9b40_3a25_11ec_b49c_d8cb8ac3230dlevel0_row0\" class=\"row_heading level0 row0\" >Lisosia93</th>\n",
       "                        <td id=\"T_26cc9b40_3a25_11ec_b49c_d8cb8ac3230drow0_col0\" class=\"data row0 col0\" >5</td>\n",
       "                        <td id=\"T_26cc9b40_3a25_11ec_b49c_d8cb8ac3230drow0_col1\" class=\"data row0 col1\" >$3.79</td>\n",
       "                        <td id=\"T_26cc9b40_3a25_11ec_b49c_d8cb8ac3230drow0_col2\" class=\"data row0 col2\" >$18.96</td>\n",
       "            </tr>\n",
       "            <tr>\n",
       "                        <th id=\"T_26cc9b40_3a25_11ec_b49c_d8cb8ac3230dlevel0_row1\" class=\"row_heading level0 row1\" >Idastidru52</th>\n",
       "                        <td id=\"T_26cc9b40_3a25_11ec_b49c_d8cb8ac3230drow1_col0\" class=\"data row1 col0\" >4</td>\n",
       "                        <td id=\"T_26cc9b40_3a25_11ec_b49c_d8cb8ac3230drow1_col1\" class=\"data row1 col1\" >$3.86</td>\n",
       "                        <td id=\"T_26cc9b40_3a25_11ec_b49c_d8cb8ac3230drow1_col2\" class=\"data row1 col2\" >$15.45</td>\n",
       "            </tr>\n",
       "            <tr>\n",
       "                        <th id=\"T_26cc9b40_3a25_11ec_b49c_d8cb8ac3230dlevel0_row2\" class=\"row_heading level0 row2\" >Chamjask73</th>\n",
       "                        <td id=\"T_26cc9b40_3a25_11ec_b49c_d8cb8ac3230drow2_col0\" class=\"data row2 col0\" >3</td>\n",
       "                        <td id=\"T_26cc9b40_3a25_11ec_b49c_d8cb8ac3230drow2_col1\" class=\"data row2 col1\" >$4.61</td>\n",
       "                        <td id=\"T_26cc9b40_3a25_11ec_b49c_d8cb8ac3230drow2_col2\" class=\"data row2 col2\" >$13.83</td>\n",
       "            </tr>\n",
       "            <tr>\n",
       "                        <th id=\"T_26cc9b40_3a25_11ec_b49c_d8cb8ac3230dlevel0_row3\" class=\"row_heading level0 row3\" >Iral74</th>\n",
       "                        <td id=\"T_26cc9b40_3a25_11ec_b49c_d8cb8ac3230drow3_col0\" class=\"data row3 col0\" >4</td>\n",
       "                        <td id=\"T_26cc9b40_3a25_11ec_b49c_d8cb8ac3230drow3_col1\" class=\"data row3 col1\" >$3.40</td>\n",
       "                        <td id=\"T_26cc9b40_3a25_11ec_b49c_d8cb8ac3230drow3_col2\" class=\"data row3 col2\" >$13.62</td>\n",
       "            </tr>\n",
       "            <tr>\n",
       "                        <th id=\"T_26cc9b40_3a25_11ec_b49c_d8cb8ac3230dlevel0_row4\" class=\"row_heading level0 row4\" >Iskadarya95</th>\n",
       "                        <td id=\"T_26cc9b40_3a25_11ec_b49c_d8cb8ac3230drow4_col0\" class=\"data row4 col0\" >3</td>\n",
       "                        <td id=\"T_26cc9b40_3a25_11ec_b49c_d8cb8ac3230drow4_col1\" class=\"data row4 col1\" >$4.37</td>\n",
       "                        <td id=\"T_26cc9b40_3a25_11ec_b49c_d8cb8ac3230drow4_col2\" class=\"data row4 col2\" >$13.10</td>\n",
       "            </tr>\n",
       "    </tbody></table>"
      ],
      "text/plain": [
       "<pandas.io.formats.style.Styler at 0x1246dae5710>"
      ]
     },
     "execution_count": 10,
     "metadata": {},
     "output_type": "execute_result"
    }
   ],
   "source": [
    "# find the top spends in game\n",
    "sn_df = purchase_data.groupby(\"SN\")\n",
    "\n",
    "sn_purchase_count = sn_df[\"Purchase ID\"].count()\n",
    "avg_sn_purchase_price = sn_df[\"Price\"].mean()\n",
    "sn_purchase_total= sn_df[\"Price\"].sum()\n",
    "\n",
    "\n",
    "# create summary table\n",
    "top_spenders= pd.DataFrame({\"Purchase Count\": sn_purchase_count, \"Average Purchase Price\": avg_sn_purchase_price,\n",
    "                            \"Total Purchase Price\": sn_purchase_total})\n",
    "\n",
    "# sort and format to obtain top 5 \n",
    "sort_top_spenders= top_spenders.sort_values([\"Total Purchase Price\"], ascending=False).head()\n",
    "sort_top_spenders.style.format({\"Average Purchase Price\":\"${:,.2f}\", \"Total Purchase Price\":\"${:,.2f}\"})"
   ]
  },
  {
   "cell_type": "markdown",
   "metadata": {},
   "source": [
    "## Most Popular Items"
   ]
  },
  {
   "cell_type": "markdown",
   "metadata": {},
   "source": [
    "* Retrieve the Item ID, Item Name, and Item Price columns\n",
    "\n",
    "\n",
    "* Group by Item ID and Item Name. Perform calculations to obtain purchase count, average item price, and total purchase value\n",
    "\n",
    "\n",
    "* Create a summary data frame to hold the results\n",
    "\n",
    "\n",
    "* Sort the purchase count column in descending order\n",
    "\n",
    "\n",
    "* Optional: give the displayed data cleaner formatting\n",
    "\n",
    "\n",
    "* Display a preview of the summary data frame\n",
    "\n"
   ]
  },
  {
   "cell_type": "code",
   "execution_count": 11,
   "metadata": {},
   "outputs": [
    {
     "data": {
      "text/html": [
       "<style  type=\"text/css\" >\n",
       "</style><table id=\"T_26d1ad58_3a25_11ec_b4dd_d8cb8ac3230d\" ><thead>    <tr>        <th class=\"blank\" ></th>        <th class=\"blank level0\" ></th>        <th class=\"col_heading level0 col0\" >Purchase Count</th>        <th class=\"col_heading level0 col1\" >Item Price</th>        <th class=\"col_heading level0 col2\" >Total Purchase Value</th>    </tr>    <tr>        <th class=\"index_name level0\" >Item ID</th>        <th class=\"index_name level1\" >Item Name</th>        <th class=\"blank\" ></th>        <th class=\"blank\" ></th>        <th class=\"blank\" ></th>    </tr></thead><tbody>\n",
       "                <tr>\n",
       "                        <th id=\"T_26d1ad58_3a25_11ec_b4dd_d8cb8ac3230dlevel0_row0\" class=\"row_heading level0 row0\" >92</th>\n",
       "                        <th id=\"T_26d1ad58_3a25_11ec_b4dd_d8cb8ac3230dlevel1_row0\" class=\"row_heading level1 row0\" >Final Critic</th>\n",
       "                        <td id=\"T_26d1ad58_3a25_11ec_b4dd_d8cb8ac3230drow0_col0\" class=\"data row0 col0\" >13</td>\n",
       "                        <td id=\"T_26d1ad58_3a25_11ec_b4dd_d8cb8ac3230drow0_col1\" class=\"data row0 col1\" >$4.61</td>\n",
       "                        <td id=\"T_26d1ad58_3a25_11ec_b4dd_d8cb8ac3230drow0_col2\" class=\"data row0 col2\" >$59.99</td>\n",
       "            </tr>\n",
       "            <tr>\n",
       "                        <th id=\"T_26d1ad58_3a25_11ec_b4dd_d8cb8ac3230dlevel0_row1\" class=\"row_heading level0 row1\" >178</th>\n",
       "                        <th id=\"T_26d1ad58_3a25_11ec_b4dd_d8cb8ac3230dlevel1_row1\" class=\"row_heading level1 row1\" >Oathbreaker, Last Hope of the Breaking Storm</th>\n",
       "                        <td id=\"T_26d1ad58_3a25_11ec_b4dd_d8cb8ac3230drow1_col0\" class=\"data row1 col0\" >12</td>\n",
       "                        <td id=\"T_26d1ad58_3a25_11ec_b4dd_d8cb8ac3230drow1_col1\" class=\"data row1 col1\" >$4.23</td>\n",
       "                        <td id=\"T_26d1ad58_3a25_11ec_b4dd_d8cb8ac3230drow1_col2\" class=\"data row1 col2\" >$50.76</td>\n",
       "            </tr>\n",
       "            <tr>\n",
       "                        <th id=\"T_26d1ad58_3a25_11ec_b4dd_d8cb8ac3230dlevel0_row2\" class=\"row_heading level0 row2\" >145</th>\n",
       "                        <th id=\"T_26d1ad58_3a25_11ec_b4dd_d8cb8ac3230dlevel1_row2\" class=\"row_heading level1 row2\" >Fiery Glass Crusader</th>\n",
       "                        <td id=\"T_26d1ad58_3a25_11ec_b4dd_d8cb8ac3230drow2_col0\" class=\"data row2 col0\" >9</td>\n",
       "                        <td id=\"T_26d1ad58_3a25_11ec_b4dd_d8cb8ac3230drow2_col1\" class=\"data row2 col1\" >$4.58</td>\n",
       "                        <td id=\"T_26d1ad58_3a25_11ec_b4dd_d8cb8ac3230drow2_col2\" class=\"data row2 col2\" >$41.22</td>\n",
       "            </tr>\n",
       "            <tr>\n",
       "                        <th id=\"T_26d1ad58_3a25_11ec_b4dd_d8cb8ac3230dlevel0_row3\" class=\"row_heading level0 row3\" >132</th>\n",
       "                        <th id=\"T_26d1ad58_3a25_11ec_b4dd_d8cb8ac3230dlevel1_row3\" class=\"row_heading level1 row3\" >Persuasion</th>\n",
       "                        <td id=\"T_26d1ad58_3a25_11ec_b4dd_d8cb8ac3230drow3_col0\" class=\"data row3 col0\" >9</td>\n",
       "                        <td id=\"T_26d1ad58_3a25_11ec_b4dd_d8cb8ac3230drow3_col1\" class=\"data row3 col1\" >$3.22</td>\n",
       "                        <td id=\"T_26d1ad58_3a25_11ec_b4dd_d8cb8ac3230drow3_col2\" class=\"data row3 col2\" >$28.99</td>\n",
       "            </tr>\n",
       "            <tr>\n",
       "                        <th id=\"T_26d1ad58_3a25_11ec_b4dd_d8cb8ac3230dlevel0_row4\" class=\"row_heading level0 row4\" >108</th>\n",
       "                        <th id=\"T_26d1ad58_3a25_11ec_b4dd_d8cb8ac3230dlevel1_row4\" class=\"row_heading level1 row4\" >Extraction, Quickblade Of Trembling Hands</th>\n",
       "                        <td id=\"T_26d1ad58_3a25_11ec_b4dd_d8cb8ac3230drow4_col0\" class=\"data row4 col0\" >9</td>\n",
       "                        <td id=\"T_26d1ad58_3a25_11ec_b4dd_d8cb8ac3230drow4_col1\" class=\"data row4 col1\" >$3.53</td>\n",
       "                        <td id=\"T_26d1ad58_3a25_11ec_b4dd_d8cb8ac3230drow4_col2\" class=\"data row4 col2\" >$31.77</td>\n",
       "            </tr>\n",
       "    </tbody></table>"
      ],
      "text/plain": [
       "<pandas.io.formats.style.Styler at 0x1246db0e588>"
      ]
     },
     "execution_count": 11,
     "metadata": {},
     "output_type": "execute_result"
    }
   ],
   "source": [
    "# create and isolate item related columns\n",
    "items_df = purchase_data[[\"Item ID\", \"Item Name\", \"Price\"]]\n",
    "\n",
    "# create groups\n",
    "items_group = items_df.groupby([\"Item ID\", \"Item Name\"])\n",
    "\n",
    "# create summary table to calculate purchase count, average item price and total purchase value\n",
    "item_purch = items_group[\"Price\"].count()\n",
    "purch_value = items_group[\"Price\"].sum()\n",
    "item_price = purch_value/item_purch\n",
    "\n",
    "#Create popular_items_df\n",
    "popular_items = pd.DataFrame({\"Purchase Count\": item_purch, \"Item Price\": item_price,\"Total Purchase Value\": purch_value})\n",
    "\n",
    "# Sort and format summary table\n",
    "sorted_pop_items = popular_items.sort_values([\"Purchase Count\"], ascending=False).head()\n",
    "sorted_pop_items.style.format({\"Item Price\":\"${:,.2f}\", \"Total Purchase Value\":\"${:,.2f}\"})"
   ]
  },
  {
   "cell_type": "markdown",
   "metadata": {},
   "source": [
    "## Most Profitable Items"
   ]
  },
  {
   "cell_type": "markdown",
   "metadata": {},
   "source": [
    "* Sort the above table by total purchase value in descending order\n",
    "\n",
    "\n",
    "* Optional: give the displayed data cleaner formatting\n",
    "\n",
    "\n",
    "* Display a preview of the data frame\n",
    "\n"
   ]
  },
  {
   "cell_type": "code",
   "execution_count": 12,
   "metadata": {
    "scrolled": true
   },
   "outputs": [
    {
     "data": {
      "text/html": [
       "<style  type=\"text/css\" >\n",
       "</style><table id=\"T_26d4db1e_3a25_11ec_9ed8_d8cb8ac3230d\" ><thead>    <tr>        <th class=\"blank\" ></th>        <th class=\"blank level0\" ></th>        <th class=\"col_heading level0 col0\" >Purchase Count</th>        <th class=\"col_heading level0 col1\" >Item Price</th>        <th class=\"col_heading level0 col2\" >Total Purchase Value</th>    </tr>    <tr>        <th class=\"index_name level0\" >Item ID</th>        <th class=\"index_name level1\" >Item Name</th>        <th class=\"blank\" ></th>        <th class=\"blank\" ></th>        <th class=\"blank\" ></th>    </tr></thead><tbody>\n",
       "                <tr>\n",
       "                        <th id=\"T_26d4db1e_3a25_11ec_9ed8_d8cb8ac3230dlevel0_row0\" class=\"row_heading level0 row0\" >92</th>\n",
       "                        <th id=\"T_26d4db1e_3a25_11ec_9ed8_d8cb8ac3230dlevel1_row0\" class=\"row_heading level1 row0\" >Final Critic</th>\n",
       "                        <td id=\"T_26d4db1e_3a25_11ec_9ed8_d8cb8ac3230drow0_col0\" class=\"data row0 col0\" >13</td>\n",
       "                        <td id=\"T_26d4db1e_3a25_11ec_9ed8_d8cb8ac3230drow0_col1\" class=\"data row0 col1\" >$4.61</td>\n",
       "                        <td id=\"T_26d4db1e_3a25_11ec_9ed8_d8cb8ac3230drow0_col2\" class=\"data row0 col2\" >$59.99</td>\n",
       "            </tr>\n",
       "            <tr>\n",
       "                        <th id=\"T_26d4db1e_3a25_11ec_9ed8_d8cb8ac3230dlevel0_row1\" class=\"row_heading level0 row1\" >178</th>\n",
       "                        <th id=\"T_26d4db1e_3a25_11ec_9ed8_d8cb8ac3230dlevel1_row1\" class=\"row_heading level1 row1\" >Oathbreaker, Last Hope of the Breaking Storm</th>\n",
       "                        <td id=\"T_26d4db1e_3a25_11ec_9ed8_d8cb8ac3230drow1_col0\" class=\"data row1 col0\" >12</td>\n",
       "                        <td id=\"T_26d4db1e_3a25_11ec_9ed8_d8cb8ac3230drow1_col1\" class=\"data row1 col1\" >$4.23</td>\n",
       "                        <td id=\"T_26d4db1e_3a25_11ec_9ed8_d8cb8ac3230drow1_col2\" class=\"data row1 col2\" >$50.76</td>\n",
       "            </tr>\n",
       "            <tr>\n",
       "                        <th id=\"T_26d4db1e_3a25_11ec_9ed8_d8cb8ac3230dlevel0_row2\" class=\"row_heading level0 row2\" >145</th>\n",
       "                        <th id=\"T_26d4db1e_3a25_11ec_9ed8_d8cb8ac3230dlevel1_row2\" class=\"row_heading level1 row2\" >Fiery Glass Crusader</th>\n",
       "                        <td id=\"T_26d4db1e_3a25_11ec_9ed8_d8cb8ac3230drow2_col0\" class=\"data row2 col0\" >9</td>\n",
       "                        <td id=\"T_26d4db1e_3a25_11ec_9ed8_d8cb8ac3230drow2_col1\" class=\"data row2 col1\" >$4.58</td>\n",
       "                        <td id=\"T_26d4db1e_3a25_11ec_9ed8_d8cb8ac3230drow2_col2\" class=\"data row2 col2\" >$41.22</td>\n",
       "            </tr>\n",
       "            <tr>\n",
       "                        <th id=\"T_26d4db1e_3a25_11ec_9ed8_d8cb8ac3230dlevel0_row3\" class=\"row_heading level0 row3\" >108</th>\n",
       "                        <th id=\"T_26d4db1e_3a25_11ec_9ed8_d8cb8ac3230dlevel1_row3\" class=\"row_heading level1 row3\" >Extraction, Quickblade Of Trembling Hands</th>\n",
       "                        <td id=\"T_26d4db1e_3a25_11ec_9ed8_d8cb8ac3230drow3_col0\" class=\"data row3 col0\" >9</td>\n",
       "                        <td id=\"T_26d4db1e_3a25_11ec_9ed8_d8cb8ac3230drow3_col1\" class=\"data row3 col1\" >$3.53</td>\n",
       "                        <td id=\"T_26d4db1e_3a25_11ec_9ed8_d8cb8ac3230drow3_col2\" class=\"data row3 col2\" >$31.77</td>\n",
       "            </tr>\n",
       "            <tr>\n",
       "                        <th id=\"T_26d4db1e_3a25_11ec_9ed8_d8cb8ac3230dlevel0_row4\" class=\"row_heading level0 row4\" >132</th>\n",
       "                        <th id=\"T_26d4db1e_3a25_11ec_9ed8_d8cb8ac3230dlevel1_row4\" class=\"row_heading level1 row4\" >Persuasion</th>\n",
       "                        <td id=\"T_26d4db1e_3a25_11ec_9ed8_d8cb8ac3230drow4_col0\" class=\"data row4 col0\" >9</td>\n",
       "                        <td id=\"T_26d4db1e_3a25_11ec_9ed8_d8cb8ac3230drow4_col1\" class=\"data row4 col1\" >$3.22</td>\n",
       "                        <td id=\"T_26d4db1e_3a25_11ec_9ed8_d8cb8ac3230drow4_col2\" class=\"data row4 col2\" >$28.99</td>\n",
       "            </tr>\n",
       "    </tbody></table>"
      ],
      "text/plain": [
       "<pandas.io.formats.style.Styler at 0x1246cb6db00>"
      ]
     },
     "execution_count": 12,
     "metadata": {},
     "output_type": "execute_result"
    }
   ],
   "source": [
    " # find profitable item and format table to reflect\n",
    "profitable_items = sorted_pop_items.sort_values([\"Total Purchase Value\"], ascending=False).head()\n",
    "profitable_items.style.format({\"Item Price\": '${:,.2f}', \"Total Purchase Value\": '${:,.2f}'})"
   ]
  },
  {
   "cell_type": "code",
   "execution_count": null,
   "metadata": {},
   "outputs": [],
   "source": []
  },
  {
   "cell_type": "code",
   "execution_count": null,
   "metadata": {},
   "outputs": [],
   "source": []
  }
 ],
 "metadata": {
  "anaconda-cloud": {},
  "kernel_info": {
   "name": "python3"
  },
  "kernelspec": {
   "display_name": "Python [conda env:PythonData]",
   "language": "python",
   "name": "conda-env-PythonData-py"
  },
  "language_info": {
   "codemirror_mode": {
    "name": "ipython",
    "version": 3
   },
   "file_extension": ".py",
   "mimetype": "text/x-python",
   "name": "python",
   "nbconvert_exporter": "python",
   "pygments_lexer": "ipython3",
   "version": "3.6.10"
  },
  "latex_envs": {
   "LaTeX_envs_menu_present": true,
   "autoclose": false,
   "autocomplete": true,
   "bibliofile": "biblio.bib",
   "cite_by": "apalike",
   "current_citInitial": 1,
   "eqLabelWithNumbers": true,
   "eqNumInitial": 1,
   "hotkeys": {
    "equation": "Ctrl-E",
    "itemize": "Ctrl-I"
   },
   "labels_anchors": false,
   "latex_user_defs": false,
   "report_style_numbering": false,
   "user_envs_cfg": false
  },
  "nteract": {
   "version": "0.2.0"
  }
 },
 "nbformat": 4,
 "nbformat_minor": 2
}
